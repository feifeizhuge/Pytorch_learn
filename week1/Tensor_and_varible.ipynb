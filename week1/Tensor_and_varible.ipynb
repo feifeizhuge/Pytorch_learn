{
 "cells": [
  {
   "cell_type": "markdown",
   "metadata": {},
   "source": [
    "### 1. 张量(Tensor)是什么？\n",
    "\n",
    "#### 1.1 数学概念\n",
    "张量在数学概念中就是一个多维数组，它是标量，向量，矩阵的高纬拓展，比如彩色图像有三个通道，就是平面图像的在第三个维度的扩展\n",
    "#### 1.2 在torch中的概念\n",
    "variable是0.4版本之前的一种重要的数据结构，虽然在新版本中已经封装到Tensor中，但是还是重要的基础。\n",
    "它有如下五个的属性：\n",
    "- data: 被包装的Tensor\n",
    "- grad: data的梯度\n",
    "- grad_fn: 创建Tensor的Function, 是自动求到的关键\n",
    "- requires_grad: 指示是否需要梯度\n",
    "- is_leaf: 指示是否是叶子节点(张量)\n",
    "\n",
    "Pytorch在0.4.0版本以后, Varibale并入Tensor, 并新增了三个属性:\n",
    "- dtype: 张量的数据结构，如 torch.FloatTensor, torch.cuda.FloatTensor, 卷积层的参数和图像的数值常用torch.float(32-bit floating point), 分类的标签值常用torch.long(64-int integer)\n",
    "- shape: 张量的形状, 如(64, 3, 224, 224)\n",
    "- device: 张量所在设备, GPU/CPU, 是加速的关键 \n",
    "\n",
    "#### 1.3 Tensor的创建\n",
    "总结: \n",
    "- 直接创建: <font color=blue>常见:torch.tensor;torch.from_numpy, 需要注意的是tensor与dnarray共享内存</font>\n",
    "- 依据数据创建: <font color=blue>比如全零, 全一, 自定义, 等差数列, 均分数列, 对数均分数列, 单位矩阵</font>\n",
    "- 依据概率创建: <font color=blue>正态分布, 标准正态分布, 整数均匀分布, 以及波努力分布</font>\n",
    "\n",
    "##### 1.直接创建   \n",
    "###### 1.1 - torch.tensor()   \n",
    "功能: 从data创建tensor   \n",
    "- data: 数据，可以是list，numpy\n",
    "- dtype: 数据类型，默认与data的一致\n",
    "- device: 所在设备，cuda／cpu\n",
    "- requires_grad: 是否需要梯度\n",
    "- pin_memory: 是否存于锁页内存\n"
   ]
  },
  {
   "cell_type": "code",
   "execution_count": 39,
   "metadata": {},
   "outputs": [
    {
     "name": "stdout",
     "output_type": "stream",
     "text": [
      "The datatype of ndarray:  float64\n"
     ]
    }
   ],
   "source": [
    "import numpy as np\n",
    "import torch\n",
    "\n",
    "arr = np.ones((3,3))\n",
    "print(\"The datatype of ndarray: \", arr.dtype)"
   ]
  },
  {
   "cell_type": "code",
   "execution_count": 43,
   "metadata": {},
   "outputs": [
    {
     "name": "stdout",
     "output_type": "stream",
     "text": [
      "tensor([[1., 1., 1.],\n",
      "        [1., 1., 1.],\n",
      "        [1., 1., 1.]], dtype=torch.float64)\n"
     ]
    }
   ],
   "source": [
    "# 观察到tensor的类型和darray的数据类型一致\n",
    "t = torch.tensor(arr)\n",
    "print(t)"
   ]
  },
  {
   "cell_type": "markdown",
   "metadata": {},
   "source": [
    "*** \n",
    "###### 1.2 - torch.from_numpy(ndarray)   \n",
    "功能: 从numpy创建tensor\n",
    "\n",
    "<font color=blue>注意事项</font>: 从torch.from_numpy创建的tensor与原ndarray<font color=blue>共享内存</font>，当修改其中一个的数据，另外一个也将会被改动\n"
   ]
  },
  {
   "cell_type": "code",
   "execution_count": 11,
   "metadata": {},
   "outputs": [
    {
     "name": "stdout",
     "output_type": "stream",
     "text": [
      "numpy array: \n",
      " [[1 2 3]\n",
      " [4 5 6]]\n",
      "tensor: \n",
      " tensor([[1, 2, 3],\n",
      "        [4, 5, 6]])\n"
     ]
    }
   ],
   "source": [
    "arr = np.array([[1,2,3], [4,5,6]])\n",
    "t = torch.from_numpy(arr)\n",
    "print(\"numpy array: \\n\", arr)\n",
    "print(\"tensor: \\n\", t)"
   ]
  },
  {
   "cell_type": "code",
   "execution_count": 13,
   "metadata": {},
   "outputs": [
    {
     "name": "stdout",
     "output_type": "stream",
     "text": [
      "修改arr后:\n",
      "numpy array: \n",
      " [[0 2 3]\n",
      " [4 5 6]]\n",
      "tensor: \n",
      " tensor([[0, 2, 3],\n",
      "        [4, 5, 6]])\n",
      "\n",
      " 修改tensor后:\n",
      "numpy array: \n",
      " [[-1  2  3]\n",
      " [ 4  5  6]]\n",
      "tensor: \n",
      " tensor([[-1,  2,  3],\n",
      "        [ 4,  5,  6]])\n"
     ]
    }
   ],
   "source": [
    "# 观察到单独修改其中一个都会影响到另一个，它们是共享内存的\n",
    "print(\"修改arr后:\")\n",
    "arr[0,0] = 0\n",
    "print(\"numpy array: \\n\", arr)\n",
    "print(\"tensor: \\n\", t)\n",
    "\n",
    "print(\"\\n 修改tensor后:\")\n",
    "t[0,0] = -1\n",
    "print(\"numpy array: \\n\", arr)\n",
    "print(\"tensor: \\n\", t)"
   ]
  },
  {
   "cell_type": "markdown",
   "metadata": {},
   "source": [
    "---\n",
    "##### 2.依据数值创建   \n",
    "###### 2.1  torch.zeros()   \n",
    "功能: 依size创建全0张量\n",
    "- size: 张量的形状, 如(3,3), (3,244,244) \n",
    "- out: 输出的张量\n",
    "- layout: 内存中布局形式, 有strided, sparse_coo等, 当是稀疏张量时可以设置, 提高内存效率\n",
    "- device: 所在设备, gpu/cpu\n",
    "- requires_grad: 是否需要梯度\n",
    "\n",
    "```python\n",
    "torch.zeros(*size,\n",
    "            out=None\n",
    "            dtype=None,\n",
    "            layout=torch.strided,\n",
    "            device=None,\n",
    "            requires_grad=False)\n",
    "```\n",
    "\n"
   ]
  },
  {
   "cell_type": "code",
   "execution_count": 15,
   "metadata": {},
   "outputs": [
    {
     "name": "stdout",
     "output_type": "stream",
     "text": [
      "tensor([[0, 0, 0],\n",
      "        [0, 0, 0],\n",
      "        [0, 0, 0]]) \n",
      " tensor([[0, 0, 0],\n",
      "        [0, 0, 0],\n",
      "        [0, 0, 0]])\n",
      "4914215600 4914215600 True\n"
     ]
    }
   ],
   "source": [
    "out_t = torch.tensor([1])\n",
    "t = torch.zeros((3,3), out=out_t)\n",
    "\n",
    "# t 和 out_t 的内存地址一样\n",
    "print(t, '\\n', out_t)\n",
    "print(id(t), id(out_t), id(t)==id(out_t))"
   ]
  },
  {
   "cell_type": "markdown",
   "metadata": {},
   "source": [
    "*** \n",
    "###### 2.2 torch.zeros_like()   \n",
    "功能: 依input形状创建全0张量\n",
    "- input: 创建与input同形状的全0张量\n",
    "- dtype: 数据结构\n",
    "- layout: 内存中的布局结构\n",
    "\n",
    "\n",
    "```python\n",
    "torch.zeros_like(input,\n",
    "                 dtype=None,\n",
    "                 layout=None,\n",
    "                 device=None,\n",
    "                 requires_grad=False)\n",
    "```\n",
    "\n",
    "----\n"
   ]
  },
  {
   "cell_type": "markdown",
   "metadata": {},
   "source": [
    "###### 2.3/2.4 torch.ones()/torch.ones_like()   \n",
    "全一张量的创建和之前的全零基本完全一致\n",
    "```python\n",
    "torch.ones(*size,\n",
    "           out=None\n",
    "           dtype=None,\n",
    "           layout=torch.strided,\n",
    "           device=None,\n",
    "           requires_grad=False)\n",
    "\n",
    "torch.ones_like(input,\n",
    "                dtype=None,\n",
    "                layout=None,\n",
    "                device=None,\n",
    "                requires_grad=False)\n",
    "```\n",
    "------"
   ]
  },
  {
   "cell_type": "markdown",
   "metadata": {},
   "source": [
    "###### 2.5/2.6 torch.full()/torch.full_like()   \n",
    "功能: 依input形状创建全0张量   \n",
    "- size: 张量的形状, 如(3,3)\n",
    "- fill_value: 张量的值\n",
    "```python\n",
    "torch.full(*size,\n",
    "           fill_value,\n",
    "           out=None,\n",
    "           dtype=None,\n",
    "           layout=torch.strided,\n",
    "           device=None,\n",
    "           requires_grad=False)\n",
    "```"
   ]
  },
  {
   "cell_type": "code",
   "execution_count": 16,
   "metadata": {},
   "outputs": [
    {
     "name": "stdout",
     "output_type": "stream",
     "text": [
      "tensor([[10., 10., 10.],\n",
      "        [10., 10., 10.],\n",
      "        [10., 10., 10.]])\n"
     ]
    }
   ],
   "source": [
    "t = torch.full((3,3), 10)\n",
    "print(t)"
   ]
  },
  {
   "cell_type": "markdown",
   "metadata": {},
   "source": [
    "----\n",
    "###### 2.7 torch.arange()   \n",
    "功能: 创建等差的1维张量    \n",
    "注意事项: 数值区间为[start, end)\n",
    "- start: 数列起始值\n",
    "- end: 数列“结束值”\n",
    "- step: 数列公差， 默认为1\n",
    "```python\n",
    "torch.arange(start=0,\n",
    "             end,\n",
    "             step=1,\n",
    "             out=None,\n",
    "             dtype=None,\n",
    "             layout=torch.strided,\n",
    "             device=None,\n",
    "             requires_grad=False)\n",
    "```"
   ]
  },
  {
   "cell_type": "code",
   "execution_count": 17,
   "metadata": {},
   "outputs": [
    {
     "name": "stdout",
     "output_type": "stream",
     "text": [
      "tensor([0, 2, 4, 6, 8])\n"
     ]
    }
   ],
   "source": [
    "# 创建一个偶数数列，注意是左闭右开\n",
    "t = torch.arange(0,10,2)\n",
    "print(t)"
   ]
  },
  {
   "cell_type": "markdown",
   "metadata": {},
   "source": [
    "--- \n",
    "###### 2.8 torch.linspace()    \n",
    "功能: 创建均分的1维张量    \n",
    "注意事项: 数值区间为[start, end]\n",
    "- start: 数列起始值\n",
    "- end: 数列“结束值”\n",
    "- step: 数列长度\n",
    "```python\n",
    "torch.linspace(start=0,\n",
    "               end,\n",
    "               step=100,\n",
    "               out=None,\n",
    "               dtype=None,\n",
    "               layout=torch.strided,\n",
    "               device=None,\n",
    "               requires_grad=False)\n",
    "```\n",
    "---\n",
    "###### 2.9 torch.logspace()    \n",
    "功能: 创建均分的1维张量    \n",
    "注意事项: 长度为steps，底为base\n",
    "- start: 数列起始值\n",
    "- end: 数列“结束值”\n",
    "- step: 数列长度\n",
    "- base: 对数函数的底，默认为10"
   ]
  },
  {
   "cell_type": "code",
   "execution_count": 18,
   "metadata": {},
   "outputs": [
    {
     "name": "stdout",
     "output_type": "stream",
     "text": [
      "tensor([ 2.0000,  3.6000,  5.2000,  6.8000,  8.4000, 10.0000])\n"
     ]
    }
   ],
   "source": [
    "# 步长 = (end-start)/(step-1)\n",
    "t = torch.linspace(2,10,6)\n",
    "print(t)"
   ]
  },
  {
   "cell_type": "markdown",
   "metadata": {},
   "source": [
    "###### 2.10 torch.eye()   \n",
    "功能: 创建单位对角矩阵(2维张量)\n",
    "注意事项: 默认方阵\n",
    "- n: 矩阵行数\n",
    "- m: 矩阵列数"
   ]
  },
  {
   "cell_type": "markdown",
   "metadata": {},
   "source": [
    "---\n",
    "##### 3.依据概率分布创建张量    \n",
    "###### 3.1 torch.normal()    \n",
    "功能: 生成正态分布   \n",
    "- mean: 均值\n",
    "- std: 标准差   \n",
    "四种模式:    \n",
    "mean为标量, std为标量   \n",
    "mean为标量, std为张量   \n",
    "mean为张量, std为标量   \n",
    "mean为张量, std为张量"
   ]
  },
  {
   "cell_type": "code",
   "execution_count": 22,
   "metadata": {},
   "outputs": [
    {
     "name": "stdout",
     "output_type": "stream",
     "text": [
      "mean:tensor([1., 2., 3., 4.])\n",
      "std:tensor([1., 2., 3., 4.])\n",
      "out_tensor:tensor([1.0040, 2.0221, 3.3154, 4.5225])\n"
     ]
    }
   ],
   "source": [
    "# mean: 张量, std: 张量\n",
    "mean = torch.arange(1, 5, dtype=torch.float)\n",
    "std = torch.arange(1, 5, dtype=torch.float)\n",
    "t_normal = torch.normal(mean, std)\n",
    "print(\"mean:{}\\nstd:{}\\nout_tensor:{}\".format(mean, std, t_normal))\n",
    "# out_tensor:tensor([1.0040, 2.0221, 3.3154, 4.5225]) 分别是四个不同的正态分布得到的"
   ]
  },
  {
   "cell_type": "code",
   "execution_count": 28,
   "metadata": {},
   "outputs": [
    {
     "name": "stdout",
     "output_type": "stream",
     "text": [
      "tensor([ 0.2219, -1.1354,  0.2321,  0.5560])\n"
     ]
    }
   ],
   "source": [
    "# mean: 张量, std: 张量\n",
    "t_normal = torch.normal(0., 1., size=(4,))\n",
    "print(t_normal)\n",
    "# out_tensor:tensor([1.0040, 2.0221, 3.3154, 4.5225]) "
   ]
  },
  {
   "cell_type": "code",
   "execution_count": 29,
   "metadata": {},
   "outputs": [
    {
     "name": "stdout",
     "output_type": "stream",
     "text": [
      "mean:tensor([1., 2., 3., 4.])\n",
      "std:1\n",
      "out_tensor:tensor([0.4883, 2.2987, 2.9339, 3.8829])\n"
     ]
    }
   ],
   "source": [
    "# mean: 张量, std: 张量\n",
    "mean = torch.arange(1, 5, dtype=torch.float)\n",
    "std = 1\n",
    "t_normal = torch.normal(mean, std)\n",
    "print(\"mean:{}\\nstd:{}\\nout_tensor:{}\".format(mean, std, t_normal))\n",
    "# "
   ]
  },
  {
   "cell_type": "markdown",
   "metadata": {},
   "source": [
    "---\n",
    "###### 3.2/3.3 torch.randn() / torch.rand_like()    \n",
    "功能: 生成标准正态分布    \n",
    "- size: 张量的形状\n",
    "--- \n",
    "###### 3.4 torch.rand()   \n",
    "###### 3.5 torch.rand_like()   \n",
    "功能: 在区间[0,1)上，生成均匀分布    \n",
    "```python\n",
    "torch.rand(*size,\n",
    "           out=None,\n",
    "           dtype=None,\n",
    "           layout=torch.strided,\n",
    "           device=None,\n",
    "           requires_grad=False)\n",
    "```\n",
    "---\n",
    "###### 3.6 torch.randint()    \n",
    "###### 3.7 torch.randint_like()    \n",
    "功能: 区间[low, high)生成整数均匀分布\n",
    "- size: 张量的形状\n",
    "```python\n",
    "torch.randint(low=0,\n",
    "              high,\n",
    "              size,\n",
    "              out=None\n",
    "              layout=torch.strided,\n",
    "              device=None,\n",
    "              requires_grad=False)\n",
    "```\n",
    "---\n",
    "###### 3.8 torch.randprem()   \n",
    "功能: 生成丛0到n-1的随机排列，<font color=blue>最常见用来生产一个乱序的索引</font> \n",
    "- n: 张量的长度   \n",
    "```python\n",
    "torch.randprem(n,\n",
    "               out=None\n",
    "               layout=torch.strided,\n",
    "               device=None,\n",
    "               requires_grad=False)\n",
    "```\n",
    "---\n",
    "###### 3.9 torch.bernoulli()   \n",
    "功能: 以input为概率，生成波努力分布(0-1分布，两点分布)\n",
    "- n: 张量的长度   \n",
    "```python\n",
    "torch.bernoulli(input,\n",
    "                *,\n",
    "                generator=None,\n",
    "                out=None)\n",
    "```"
   ]
  },
  {
   "cell_type": "code",
   "execution_count": 45,
   "metadata": {},
   "outputs": [
    {
     "data": {
      "text/plain": [
       "tensor([1., 0., 0., 1.])"
      ]
     },
     "execution_count": 45,
     "metadata": {},
     "output_type": "execute_result"
    }
   ],
   "source": [
    "pro = torch.tensor([0.9, 0.1, 0.6, 0.7])\n",
    "torch.bernoulli(pro)"
   ]
  }
 ],
 "metadata": {
  "kernelspec": {
   "display_name": "Python 3",
   "language": "python",
   "name": "python3"
  },
  "language_info": {
   "codemirror_mode": {
    "name": "ipython",
    "version": 3
   },
   "file_extension": ".py",
   "mimetype": "text/x-python",
   "name": "python",
   "nbconvert_exporter": "python",
   "pygments_lexer": "ipython3",
   "version": "3.6.9"
  }
 },
 "nbformat": 4,
 "nbformat_minor": 2
}
