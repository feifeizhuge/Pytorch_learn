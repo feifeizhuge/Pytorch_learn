{
 "cells": [
  {
   "cell_type": "markdown",
   "metadata": {},
   "source": [
    "# 计算图和动态图机制\n",
    "## 1. 计算图 Computational graph\n",
    "\n",
    "计算图是用来<font color=blue>描述运算</font>的有向无环图    \n",
    "计算图有两个主要元素: \n",
    "- 结点(Node): 结点表示数据，如向量，矩阵，张量\n",
    "- 边(Edge): 边表示运算，如加减乘除卷积等\n",
    "\n",
    "用计算图表示: $$y = (x+w)*(w+1)$$    \n",
    "$$a = x + w; b = w + 1; y = a* b$$    \n",
    "\n",
    "### 1.1 计算图与梯度求道例子:\n",
    "\n",
    "$$\\frac{\\partial y}{\\partial w}\\vert{_{w=1,x=2}} = \\frac{\\partial y}{\\partial a}\\frac{\\partial a}{\\partial w} + \\frac{\\partial y}{\\partial b}\\frac{\\partial b}{\\partial w} $$\n",
    "$$= b * 1 + a * 1$$\n",
    "$$= (w + 1) + (x + w)$$\n",
    "$$= 2*w + x + 1$$\n",
    "$$= 2*1 + 2 + 1 = 5$$ \n",
    "\n",
    "![avatar](picture/梯度求导.png)"
   ]
  },
  {
   "cell_type": "code",
   "execution_count": 5,
   "metadata": {},
   "outputs": [
    {
     "name": "stdout",
     "output_type": "stream",
     "text": [
      "tensor([5.])\n"
     ]
    }
   ],
   "source": [
    "import torch\n",
    "\n",
    "w = torch.tensor([1.], requires_grad=True)\n",
    "x = torch.tensor([2.], requires_grad=True)\n",
    "\n",
    "a = torch.add(w, x)\n",
    "b = torch.add(w, 1)\n",
    "y = torch.mul(a, b)\n",
    "\n",
    "y.backward()\n",
    "print(w.grad)"
   ]
  },
  {
   "cell_type": "markdown",
   "metadata": {},
   "source": [
    "---\n",
    "### 1.2 叶子结点\n",
    "需要注意的⚠️:\n",
    "- 叶子结点: 用户创建的节点称为叶子结点，比如x与w，可以通过 is_leaf 来查看张量是否为叶子结点\n",
    "\n",
    "在每次反向传播 y.backward() 之后，非叶子结点的梯度都会释放，来节约内存"
   ]
  },
  {
   "cell_type": "code",
   "execution_count": 7,
   "metadata": {},
   "outputs": [
    {
     "name": "stdout",
     "output_type": "stream",
     "text": [
      "is_leaf:\n",
      " True True False False False\n",
      "gradient:\n",
      " tensor([5.]) tensor([2.]) None None None\n"
     ]
    }
   ],
   "source": [
    "# 查看叶子结点\n",
    "print(\"is_leaf:\\n\", w.is_leaf, x.is_leaf, a.is_leaf, b.is_leaf, y.is_leaf)\n",
    "\n",
    "# 查看梯度: 非叶子结点的a,b,y都被释放\n",
    "print(\"gradient:\\n\", w.grad, x.grad, a.grad, b.grad, y.grad)"
   ]
  },
  {
   "cell_type": "code",
   "execution_count": 8,
   "metadata": {},
   "outputs": [
    {
     "name": "stdout",
     "output_type": "stream",
     "text": [
      "gradient:\n",
      " tensor([5.]) tensor([2.]) tensor([2.]) None None\n"
     ]
    }
   ],
   "source": [
    "# 对于非叶子结点，可以通过 retain_grad() 来保存它的梯度不至于被释放\n",
    "w = torch.tensor([1.], requires_grad=True)\n",
    "x = torch.tensor([2.], requires_grad=True)\n",
    "\n",
    "a = torch.add(w, x)\n",
    "a.retain_grad()\n",
    "b = torch.add(w, 1)\n",
    "y = torch.mul(a, b)\n",
    "\n",
    "y.backward()\n",
    "print(\"gradient:\\n\", w.grad, x.grad, a.grad, b.grad, y.grad)"
   ]
  },
  {
   "cell_type": "markdown",
   "metadata": {},
   "source": [
    "### 1.3 grad_fn\n",
    "grad_fn: 记录创建该张量时所用的方法 (函数)    \n",
    "- y.grad_fn = <MulBackward0   \n",
    "- a.grad_fn = <AddBackward0   \n",
    "- b.grad_fn = <AddBackward0   "
   ]
  },
  {
   "cell_type": "code",
   "execution_count": 11,
   "metadata": {},
   "outputs": [
    {
     "name": "stdout",
     "output_type": "stream",
     "text": [
      "grad_fn:\n",
      " None None <AddBackward0 object at 0x118e30d30> <AddBackward0 object at 0x118e304e0> <MulBackward0 object at 0x118e30ef0>\n"
     ]
    }
   ],
   "source": [
    "# 查看 grad_fn; x和w是叶子结点，没有梯度函数; a和b是加法得到的; y是乘法得到的\n",
    "print(\"grad_fn:\\n\", w.grad_fn, x.grad_fn, a.grad_fn, b.grad_fn, y.grad_fn)"
   ]
  },
  {
   "attachments": {},
   "cell_type": "markdown",
   "metadata": {},
   "source": [
    "## 2. 动态图与静态图 (Dynamic vs Static Computational Gaphs)\n",
    "### 2.1 静态图 TensorFlow\n",
    "先搭建好框架，数据从最底部输入，数据在流动的过程中计算图的框架不可以改变\n",
    "![avatar](picture/静态图.png)\n",
    "### 2.2 动态图 Pytorch\n",
    "计算图从叶子结点开始建立，计算图根据代码逐层建立好\n",
    "![avatar](picture/动态图.png)"
   ]
  },
  {
   "cell_type": "code",
   "execution_count": null,
   "metadata": {},
   "outputs": [],
   "source": []
  }
 ],
 "metadata": {
  "kernelspec": {
   "display_name": "Python 3",
   "language": "python",
   "name": "python3"
  },
  "language_info": {
   "codemirror_mode": {
    "name": "ipython",
    "version": 3
   },
   "file_extension": ".py",
   "mimetype": "text/x-python",
   "name": "python",
   "nbconvert_exporter": "python",
   "pygments_lexer": "ipython3",
   "version": "3.6.9"
  }
 },
 "nbformat": 4,
 "nbformat_minor": 2
}
