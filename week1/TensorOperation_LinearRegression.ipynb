{
 "cells": [
  {
   "cell_type": "markdown",
   "metadata": {},
   "source": [
    "# 张量操作与线性回归\n",
    "本节将介绍张量的基本操作，如张量拼接切分、索引和变换，同时学习张量的数学运算，并基于所学习的知识，实现线性回归模型的训练，以加深知识点的认识。\n",
    "## 1. 张量的操作: 拼接, 切分, 索引和变换\n",
    "### 一, 张量拼接与切分 \n",
    "#### 1.1 torch.cat()\n",
    "功能: 将张量按维度dim进行拼接，将<font color=red>不会扩张张量的维度</font>\n",
    "- tensor: 张量序列\n",
    "- dim: 要拼接的维度\n",
    "\n",
    "#### 1.2 torch.stack()\n",
    "功能: 将<font color=blue>新创建的维度</font>dim上进行拼接，<font color=red>会扩张张量的维度</font>\n",
    "- tensor: 张量序列\n",
    "- dim: 要拼接的维度"
   ]
  },
  {
   "cell_type": "code",
   "execution_count": 5,
   "metadata": {},
   "outputs": [
    {
     "name": "stdout",
     "output_type": "stream",
     "text": [
      "t_0:tensor([[1., 1., 1.],\n",
      "        [1., 1., 1.],\n",
      "        [1., 1., 1.],\n",
      "        [1., 1., 1.]]) \n",
      "shape:torch.Size([4, 3])\n",
      "\n",
      "t_1:tensor([[1., 1., 1., 1., 1., 1.],\n",
      "        [1., 1., 1., 1., 1., 1.]])\n",
      "shape:torch.Size([2, 6])\n"
     ]
    }
   ],
   "source": [
    "import torch\n",
    "import numpy as np\n",
    "\n",
    "t = torch.ones((2,3))\n",
    "# dim=0, 在第一个维度上拼接\n",
    "t_0 = torch.cat([t,t], dim=0)\n",
    "t_1 = torch.cat([t,t], dim=1)\n",
    "\n",
    "print(\"t_0:{} \\nshape:{}\\n\\nt_1:{}\\nshape:{}\". format(t_0, t_0.shape, t_1, t_1.shape))"
   ]
  },
  {
   "cell_type": "code",
   "execution_count": 7,
   "metadata": {},
   "outputs": [
    {
     "name": "stdout",
     "output_type": "stream",
     "text": [
      "t_0:tensor([[[1., 1.],\n",
      "         [1., 1.],\n",
      "         [1., 1.]],\n",
      "\n",
      "        [[1., 1.],\n",
      "         [1., 1.],\n",
      "         [1., 1.]]]) \n",
      "shape:torch.Size([2, 3, 2])\n",
      "\n",
      "t_1:tensor([[[1., 1., 1.],\n",
      "         [1., 1., 1.]],\n",
      "\n",
      "        [[1., 1., 1.],\n",
      "         [1., 1., 1.]],\n",
      "\n",
      "        [[1., 1., 1.],\n",
      "         [1., 1., 1.]]])\n",
      "shape:torch.Size([3, 2, 3])\n"
     ]
    }
   ],
   "source": [
    "t = torch.ones((2,3))\n",
    "# 无论dim=x, 在新的维度上拼接，增加了维度\n",
    "t_0 = torch.stack([t,t], dim=2)\n",
    "t_1 = torch.stack([t,t,t], dim=0)\n",
    "\n",
    "print(\"t_0:{} \\nshape:{}\\n\\nt_1:{}\\nshape:{}\". format(t_0, t_0.shape, t_1, t_1.shape))"
   ]
  },
  {
   "cell_type": "markdown",
   "metadata": {},
   "source": [
    "#### 1.3 torch.chunk()\n",
    "功能: 将张量按维度dim进行平均切分   \n",
    "返回值: 张量列表   \n",
    "注意事项⚠️: 若不能整除，最后一份张量小于其他张量，保证前面的张量都足额切分\n",
    "- input: 要切分的张量\n",
    "- chunks: 要切分的分数\n",
    "- dim: 要切分的维度\n"
   ]
  },
  {
   "cell_type": "code",
   "execution_count": 8,
   "metadata": {},
   "outputs": [
    {
     "name": "stdout",
     "output_type": "stream",
     "text": [
      "第1个张量:tensor([[1., 1., 1.],\n",
      "        [1., 1., 1.]]), shape is torch.Size([2, 3])\n",
      "第2个张量:tensor([[1., 1., 1.],\n",
      "        [1., 1., 1.]]), shape is torch.Size([2, 3])\n",
      "第3个张量:tensor([[1.],\n",
      "        [1.]]), shape is torch.Size([2, 1])\n"
     ]
    }
   ],
   "source": [
    "t = torch.ones((2,7))\n",
    "list_of_tensors = torch.chunk(t, dim=1, chunks=3)\n",
    "\n",
    "for idx, t in enumerate(list_of_tensors):\n",
    "    print(\"第{}个张量:{}, shape is {}\".format(idx+1, t, t.shape))"
   ]
  },
  {
   "cell_type": "markdown",
   "metadata": {},
   "source": [
    "#### 1.4 torch.split()\n",
    "功能: 将张量按维度dim进行平均切分   \n",
    "返回值: 张量列表   \n",
    "- tesnor: 要切分的张量\n",
    "- split_size_or_sections: 为int时，表示每一分的长度；为list时，按list元素切分\n",
    "- dim: 要切分的维度"
   ]
  },
  {
   "cell_type": "code",
   "execution_count": 24,
   "metadata": {},
   "outputs": [
    {
     "name": "stdout",
     "output_type": "stream",
     "text": [
      "第1个张量:tensor([[1., 1.],\n",
      "        [1., 1.]]), shape is torch.Size([2, 2])\n",
      "第2个张量:tensor([[1., 1.],\n",
      "        [1., 1.]]), shape is torch.Size([2, 2])\n",
      "第3个张量:tensor([[1.],\n",
      "        [1.]]), shape is torch.Size([2, 1])\n"
     ]
    }
   ],
   "source": [
    "t = torch.ones((2,5))\n",
    "list_of_tensors = torch.split(t, split_size_or_sections=2, dim=1)\n",
    "\n",
    "for idx, elem in enumerate(list_of_tensors):\n",
    "    print(\"第{}个张量:{}, shape is {}\".format(idx+1, elem, elem.shape))"
   ]
  },
  {
   "cell_type": "code",
   "execution_count": 27,
   "metadata": {},
   "outputs": [
    {
     "name": "stdout",
     "output_type": "stream",
     "text": [
      "第1个张量:tensor([[1., 1.],\n",
      "        [1., 1.]]), shape is torch.Size([2, 2])\n",
      "第2个张量:tensor([[1.],\n",
      "        [1.]]), shape is torch.Size([2, 1])\n",
      "第3个张量:tensor([[1., 1.],\n",
      "        [1., 1.]]), shape is torch.Size([2, 2])\n"
     ]
    }
   ],
   "source": [
    "list_of_tensors = torch.split(t, split_size_or_sections=[2,1,2], dim=1)\n",
    "\n",
    "for idx, elem in enumerate(list_of_tensors):\n",
    "    print(\"第{}个张量:{}, shape is {}\".format(idx+1, elem, elem.shape))"
   ]
  },
  {
   "cell_type": "markdown",
   "metadata": {},
   "source": [
    "### 二，张量索引   \n",
    "#### 2.1 torch.index_select()   \n",
    "功能: 在维度dim上，按index索引数据      \n",
    "返回值: 依index索引数据拼接的张量 \n",
    "- input: 要切分的张量\n",
    "- dim: 要索引的维度\n",
    "- index: 要索引数据的序号"
   ]
  },
  {
   "cell_type": "code",
   "execution_count": 32,
   "metadata": {},
   "outputs": [
    {
     "name": "stdout",
     "output_type": "stream",
     "text": [
      "t:\n",
      "tensor([[5, 5, 7],\n",
      "        [5, 7, 8],\n",
      "        [0, 8, 6]])\n",
      "t_select:\n",
      "tensor([[5, 5, 7],\n",
      "        [0, 8, 6]])\n"
     ]
    }
   ],
   "source": [
    "# 在[0,9)上的均匀分布\n",
    "t = torch.randint(0, 9, size=(3, 3))\n",
    "# list转换成tensor，注意数据类型必须是long64-bit整型，不能是float32-bit\n",
    "idx = torch.tensor([0,2], dtype=torch.long)\n",
    "# 选取0，2行\n",
    "t_select = torch.index_select(t, dim=0, index=idx)\n",
    "print(\"t:\\n{}\\nt_select:\\n{}\".format(t, t_select))"
   ]
  },
  {
   "cell_type": "markdown",
   "metadata": {},
   "source": [
    "#### 2.2 torch.masked_select()   \n",
    "功能: 按mask中的True进行索引      \n",
    "返回值: 一维张量 \n",
    "- input: 要切分的张量\n",
    "- mask: 与input同形状的布尔类型张量"
   ]
  },
  {
   "cell_type": "code",
   "execution_count": 33,
   "metadata": {},
   "outputs": [
    {
     "name": "stdout",
     "output_type": "stream",
     "text": [
      "t:\n",
      "tensor([[4, 3, 3],\n",
      "        [3, 0, 0],\n",
      "        [1, 8, 0]])\n",
      "mask:\n",
      "tensor([[False, False, False],\n",
      "        [False, False, False],\n",
      "        [False,  True, False]])\n",
      "t_select:\n",
      "tensor([8])\n"
     ]
    }
   ],
   "source": [
    "t = torch.randint(0, 9, size=(3, 3))\n",
    "# ge is greater than or equal; gt: greater than; and also have le lt\n",
    "mask = t.ge(5)\n",
    "t_select = torch.masked_select(t, mask)\n",
    "print(\"t:\\n{}\\nmask:\\n{}\\nt_select:\\n{}\".format(t, mask, t_select))"
   ]
  },
  {
   "cell_type": "markdown",
   "metadata": {},
   "source": [
    "### 三，张量变换   \n",
    "#### 3.1 torch.reshape()   \n",
    "功能: 变换张量形状     \n",
    "注意事项: 当张量在内存中是连续是，<font color=red>新张量与input共享数据内存</font>\n",
    "- input: 要切分的张量\n",
    "- shape: 新张量的形状"
   ]
  },
  {
   "cell_type": "code",
   "execution_count": 38,
   "metadata": {},
   "outputs": [
    {
     "name": "stdout",
     "output_type": "stream",
     "text": [
      "t:tensor([2, 3, 7, 0, 4, 1, 5, 6])\n",
      "t_reshape:\n",
      "tensor([[2, 3, 7, 0],\n",
      "        [4, 1, 5, 6]])\n",
      "t:tensor([1024,    3,    7,    0,    4,    1,    5,    6])\n",
      "t_reshape:\n",
      "tensor([[1024,    3,    7,    0],\n",
      "        [   4,    1,    5,    6]])\n",
      "t.data 内存地址:4372873008\n",
      "t_reshape.data 内存地址:4372873008\n"
     ]
    }
   ],
   "source": [
    "# 生成丛0到n-1的随机排列，最常见用来生产一个乱序的索引\n",
    "t = torch.randperm(8)\n",
    "# (-1, 4)其中-1是根据另一个维度计算，保证匹配\n",
    "t_reshape = torch.reshape(t, (-1, 4))\n",
    "print(\"t:{}\\nt_reshape:\\n{}\".format(t, t_reshape))\n",
    "\n",
    "t[0] = 1024\n",
    "print(\"t:{}\\nt_reshape:\\n{}\".format(t, t_reshape))\n",
    "print(\"t.data 内存地址:{}\".format(id(t.data)))\n",
    "print(\"t_reshape.data 内存地址:{}\".format(id(t_reshape.data)))"
   ]
  },
  {
   "cell_type": "markdown",
   "metadata": {},
   "source": [
    "#### 3.2 torch.transpose()   \n",
    "功能: 交换张量的两个维度    \n",
    "- input: 要交换的张量\n",
    "- dim0: 要交换的维度\n",
    "- dim1: 要交换的维度\n",
    "\n",
    "#### 3.3 torch.t()   \n",
    "功能: 2维张量装置，对矩阵而言，等价于torch.transpose(input, 0, 1)"
   ]
  },
  {
   "cell_type": "code",
   "execution_count": 36,
   "metadata": {},
   "outputs": [
    {
     "name": "stdout",
     "output_type": "stream",
     "text": [
      "t shape:torch.Size([2, 3, 4])\n",
      "t_transpose shape: torch.Size([2, 4, 3])\n"
     ]
    }
   ],
   "source": [
    "t = torch.rand((2, 3, 4))\n",
    "# 最常见的运用在，图像的预处理上，比如读取的图片是: C*H*W --> H*W*C\n",
    "t_transpose = torch.transpose(t, dim0=1, dim1=2)\n",
    "print(\"t shape:{}\\nt_transpose shape: {}\".format(t.shape, t_transpose.shape))"
   ]
  },
  {
   "cell_type": "markdown",
   "metadata": {},
   "source": [
    "#### 3.4 torch.squeeze()   \n",
    "功能: 压缩长度为1的维度(轴)   \n",
    "- dim: 若为Nonde，一处所有长度为1的轴；若制定维度，当且仅当该轴长度为1时，可以被移除；\n",
    "\n",
    "#### 3.5 torch.unsqueeze()   \n",
    "功能: 依据dim扩展维度\n",
    "- dim: 扩展的维度"
   ]
  },
  {
   "cell_type": "code",
   "execution_count": 39,
   "metadata": {},
   "outputs": [
    {
     "name": "stdout",
     "output_type": "stream",
     "text": [
      "torch.Size([1, 2, 3, 1])\n",
      "torch.Size([2, 3])\n",
      "torch.Size([2, 3, 1])\n",
      "torch.Size([1, 2, 3, 1])\n"
     ]
    }
   ],
   "source": [
    "t = torch.rand((1, 2, 3, 1))\n",
    "t_sq = torch.squeeze(t)\n",
    "t_0 = torch.squeeze(t, dim=0)\n",
    "t_1 = torch.squeeze(t, dim=1)\n",
    "\n",
    "print(t.shape)\n",
    "# 未指定，将移除所有维度\n",
    "print(t_sq.shape)\n",
    "print(t_0.shape)\n",
    "# 指定的维度不是1，不会移除\n",
    "print(t_1.shape)"
   ]
  },
  {
   "cell_type": "markdown",
   "metadata": {},
   "source": [
    "### 四，张量数学运算\n",
    "#### 4.1 torch.add()\n",
    "功能: 逐元素计算$input+alpha*other$\n",
    "- input: 第一个张量\n",
    "- alpha: 乘项因子\n",
    "- other: 第二个张量\n",
    "\n",
    "#### 4.2 其他的python风格的操作运算，让代码跟简洁\n",
    "torch.addcdiv(): $out_i = input_i + value\\times \\frac{tensor1_i}{tensor2_i}$    \n",
    "torch.addcmul(): $out_i = input_i + value\\times tensor1_i\\times tensor2_i$"
   ]
  },
  {
   "cell_type": "code",
   "execution_count": 40,
   "metadata": {},
   "outputs": [
    {
     "name": "stdout",
     "output_type": "stream",
     "text": [
      "t_0:\n",
      "tensor([[-0.3519, -1.0902,  0.7411],\n",
      "        [-0.8252, -1.1531, -0.8708],\n",
      "        [ 0.7616,  0.5386,  0.6233]])\n",
      "t_1:\n",
      "tensor([[1., 1., 1.],\n",
      "        [1., 1., 1.],\n",
      "        [1., 1., 1.]])\n",
      "t_add_10:\n",
      "tensor([[ 9.6481,  8.9098, 10.7411],\n",
      "        [ 9.1748,  8.8469,  9.1292],\n",
      "        [10.7616, 10.5386, 10.6233]])\n"
     ]
    }
   ],
   "source": [
    "t_0 = torch.randn((3, 3))\n",
    "t_1 = torch.ones_like(t_0)\n",
    "t_add = torch.add(t_0, 10, t_1)\n",
    "\n",
    "print(\"t_0:\\n{}\\nt_1:\\n{}\\nt_add_10:\\n{}\".format(t_0, t_1, t_add))"
   ]
  },
  {
   "cell_type": "markdown",
   "metadata": {},
   "source": [
    "## 2. 线性回归"
   ]
  },
  {
   "cell_type": "markdown",
   "metadata": {},
   "source": [
    "### 2.1 模型和损失函数\n",
    "\n",
    "线性回归是分析一个变量与另外一(多)个变量之间关系的方法    \n",
    "- 因变量:y \n",
    "- 自变量:x \n",
    "- 关系:线性   \n",
    "\n",
    "数学模型: y = wx + b 求解w，b    \n",
    "求解步骤:\n",
    "1. 确定模型   \n",
    "y = wx +b\n",
    "\n",
    "2. 选择损失函数    \n",
    "MSE(mean-square error): $loss = \\frac{1}{m}\\sum_{i=1}^m(y_i-\\hat{y_i})^2$\n",
    "\n",
    "3. 求解梯度并更新w,b   \n",
    "$w = w - LR * w.grad$  \n",
    "$b = b - LR * w.grad$"
   ]
  },
  {
   "cell_type": "code",
   "execution_count": 45,
   "metadata": {},
   "outputs": [
    {
     "data": {
      "image/png": "[encoded data removed]",
      "text/plain": [
       "<Figure size 432x288 with 1 Axes>"
      ]
     },
     "metadata": {
      "needs_background": "light"
     },
     "output_type": "display_data"
    },
    {
     "data": {
      "image/png": "[encoded data removed]",
      "text/plain": [
       "<Figure size 432x288 with 1 Axes>"
      ]
     },
     "metadata": {
      "needs_background": "light"
     },
     "output_type": "display_data"
    },
    {
     "data": {
      "image/png": "[encoded data removed]",
      "text/plain": [
       "<Figure size 432x288 with 1 Axes>"
      ]
     },
     "metadata": {
      "needs_background": "light"
     },
     "output_type": "display_data"
    },
    {
     "data": {
      "image/png": "[encoded data removed]",
      "text/plain": [
       "<Figure size 432x288 with 1 Axes>"
      ]
     },
     "metadata": {
      "needs_background": "light"
     },
     "output_type": "display_data"
    },
    {
     "data": {
      "image/png": "[encoded data removed]",
      "text/plain": [
       "<Figure size 432x288 with 1 Axes>"
      ]
     },
     "metadata": {
      "needs_background": "light"
     },
     "output_type": "display_data"
    }
   ],
   "source": [
    "import matplotlib.pyplot as plt\n",
    "torch.manual_seed(10)\n",
    "\n",
    "lr = 0.05  # 学习率    20191015修改\n",
    "\n",
    "# 创建训练数据\n",
    "x = torch.rand(20, 1) * 10  # x data (tensor), shape=(20, 1)\n",
    "y = 2*x + (5 + torch.randn(20, 1))  # y data (tensor), shape=(20, 1)\n",
    "\n",
    "# 构建线性回归参数\n",
    "w = torch.randn((1), requires_grad=True)\n",
    "b = torch.zeros((1), requires_grad=True)\n",
    "\n",
    "for iteration in range(1000):\n",
    "\n",
    "    # 前向传播\n",
    "    wx = torch.mul(w, x)\n",
    "    y_pred = torch.add(wx, b)\n",
    "\n",
    "    # 计算 MSE loss\n",
    "    loss = (0.5 * (y - y_pred) ** 2).mean()\n",
    "\n",
    "    # 反向传播\n",
    "    loss.backward()\n",
    "\n",
    "    # 更新参数\n",
    "    b.data.sub_(lr * b.grad)\n",
    "    w.data.sub_(lr * w.grad)\n",
    "\n",
    "    # 清零张量的梯度   20191015增加\n",
    "    w.grad.zero_()\n",
    "    b.grad.zero_()\n",
    "\n",
    "    # 绘图\n",
    "    if iteration % 20 == 0:\n",
    "\n",
    "        plt.scatter(x.data.numpy(), y.data.numpy())\n",
    "        plt.plot(x.data.numpy(), y_pred.data.numpy(), 'r-', lw=5)\n",
    "        plt.text(2, 20, 'Loss=%.4f' % loss.data.numpy(), fontdict={'size': 20, 'color':  'red'})\n",
    "        plt.xlim(1.5, 10)\n",
    "        plt.ylim(8, 28)\n",
    "        plt.title(\"Iteration: {}\\nw: {} b: {}\".format(iteration, w.data.numpy(), b.data.numpy()))\n",
    "        plt.show()\n",
    "        plt.pause(0.5)\n",
    "\n",
    "        if loss.data.numpy() < 1:\n",
    "            break"
   ]
  },
  {
   "cell_type": "markdown",
   "metadata": {},
   "source": [
    "### 2.2 为什么每次迭代梯度要清零\n",
    "如果不清零，梯度将会累加"
   ]
  },
  {
   "cell_type": "code",
   "execution_count": 58,
   "metadata": {},
   "outputs": [
    {
     "name": "stdout",
     "output_type": "stream",
     "text": [
      "tensor(2., dtype=torch.float64)\n",
      "tensor(4., dtype=torch.float64)\n",
      "tensor(6., dtype=torch.float64)\n",
      "tensor(8., dtype=torch.float64)\n",
      "tensor(10., dtype=torch.float64)\n",
      "tensor(12., dtype=torch.float64)\n",
      "tensor(14., dtype=torch.float64)\n",
      "tensor(16., dtype=torch.float64)\n",
      "tensor(18., dtype=torch.float64)\n",
      "tensor(20., dtype=torch.float64)\n"
     ]
    }
   ],
   "source": [
    "x = torch.tensor(2, dtype=float, requires_grad=True)\n",
    "\n",
    "for i in range(10):\n",
    "    y = torch.mul(x,2)\n",
    "    y.backward()\n",
    "    print(x.grad)"
   ]
  },
  {
   "cell_type": "code",
   "execution_count": 60,
   "metadata": {},
   "outputs": [
    {
     "name": "stdout",
     "output_type": "stream",
     "text": [
      "tensor(2., dtype=torch.float64)\n",
      "tensor(2., dtype=torch.float64)\n",
      "tensor(2., dtype=torch.float64)\n",
      "tensor(2., dtype=torch.float64)\n",
      "tensor(2., dtype=torch.float64)\n",
      "tensor(2., dtype=torch.float64)\n",
      "tensor(2., dtype=torch.float64)\n",
      "tensor(2., dtype=torch.float64)\n",
      "tensor(2., dtype=torch.float64)\n",
      "tensor(2., dtype=torch.float64)\n"
     ]
    }
   ],
   "source": [
    "x = torch.tensor(2, dtype=float, requires_grad=True)\n",
    "\n",
    "for i in range(10):\n",
    "    y = torch.mul(x,2)\n",
    "    y.backward()\n",
    "    print(x.grad)\n",
    "    x.grad.zero_()"
   ]
  },
  {
   "cell_type": "code",
   "execution_count": null,
   "metadata": {},
   "outputs": [],
   "source": []
  }
 ],
 "metadata": {
  "kernelspec": {
   "display_name": "Python 3",
   "language": "python",
   "name": "python3"
  },
  "language_info": {
   "codemirror_mode": {
    "name": "ipython",
    "version": 3
   },
   "file_extension": ".py",
   "mimetype": "text/x-python",
   "name": "python",
   "nbconvert_exporter": "python",
   "pygments_lexer": "ipython3",
   "version": "3.6.9"
  }
 },
 "nbformat": 4,
 "nbformat_minor": 2
}
